{
  "nbformat": 4,
  "nbformat_minor": 0,
  "metadata": {
    "colab": {
      "provenance": [],
      "authorship_tag": "ABX9TyPfU6MyBLb2pw+W9x77YkxC",
      "include_colab_link": true
    },
    "kernelspec": {
      "name": "python3",
      "display_name": "Python 3"
    },
    "language_info": {
      "name": "python"
    }
  },
  "cells": [
    {
      "cell_type": "markdown",
      "metadata": {
        "id": "view-in-github",
        "colab_type": "text"
      },
      "source": [
        "<a href=\"https://colab.research.google.com/github/DATA-ACES-ORGANIZATION/de-apache-spark/blob/main/python_vezba.ipynb\" target=\"_parent\"><img src=\"https://colab.research.google.com/assets/colab-badge.svg\" alt=\"Open In Colab\"/></a>"
      ]
    },
    {
      "cell_type": "code",
      "source": [
        "from typing import List"
      ],
      "metadata": {
        "id": "70kM2Lfwdolq"
      },
      "execution_count": null,
      "outputs": []
    },
    {
      "cell_type": "code",
      "execution_count": null,
      "metadata": {
        "colab": {
          "base_uri": "https://localhost:8080/"
        },
        "id": "hYZntULaJPof",
        "outputId": "c6854351-8ec6-4d27-b426-ccb14f5c92bd"
      },
      "outputs": [
        {
          "output_type": "stream",
          "name": "stdout",
          "text": [
            "Hello world\n"
          ]
        }
      ],
      "source": [
        "print(\"Hello world\")"
      ]
    },
    {
      "cell_type": "code",
      "source": [
        "l1 = [1, 2, 3, 4]\n",
        "l2 = [5, 6, 7, 8]\n",
        "l3 = [\"a\", \"b\"]\n",
        "l4 = l1 + l2 + l3\n",
        "print(l4)"
      ],
      "metadata": {
        "colab": {
          "base_uri": "https://localhost:8080/"
        },
        "id": "IU3VS1g84Rcu",
        "outputId": "470ff751-4759-46a8-8eb5-5e45e8e82a62"
      },
      "execution_count": null,
      "outputs": [
        {
          "output_type": "stream",
          "name": "stdout",
          "text": [
            "[1, 2, 3, 4, 5, 6, 7, 8, 'a', 'b']\n"
          ]
        }
      ]
    },
    {
      "cell_type": "code",
      "source": [
        "!pip list"
      ],
      "metadata": {
        "id": "iW6AHwyGZJQ1"
      },
      "execution_count": null,
      "outputs": []
    },
    {
      "cell_type": "code",
      "source": [
        "!python --version"
      ],
      "metadata": {
        "colab": {
          "base_uri": "https://localhost:8080/"
        },
        "id": "EW_QQOaJa8ga",
        "outputId": "cdc883f4-18a8-4597-a252-6e3cb490be4b"
      },
      "execution_count": null,
      "outputs": [
        {
          "output_type": "stream",
          "name": "stdout",
          "text": [
            "Python 3.7.12\n"
          ]
        }
      ]
    },
    {
      "cell_type": "code",
      "source": [
        "def twoSum(nums: List[int], target: int) -> List[int]:\n",
        "    result = []\n",
        "    for i in range(0,len(nums)):\n",
        "        for j in range(i+1, len(nums)):\n",
        "            if (nums[i] + nums[j] == target):\n",
        "                result.append(i)\n",
        "                result.append(j)\n",
        "    return result"
      ],
      "metadata": {
        "id": "7Hk4SbiRbtWN"
      },
      "execution_count": null,
      "outputs": []
    },
    {
      "cell_type": "code",
      "source": [
        "s1 = \"P E, RA!\"\n",
        "s2 = s1[::-1].lower()\n",
        "print(s2)\n",
        "s3 = \"\"\n",
        "for slovo in s2:\n",
        "  if slovo.isalnum():\n",
        "    s3 = s3 + slovo\n",
        "    #s3.join(slovo)\n",
        "print(s3)\n"
      ],
      "metadata": {
        "colab": {
          "base_uri": "https://localhost:8080/"
        },
        "id": "OTZJu7i_MKJa",
        "outputId": "98011734-7ba6-43c1-e377-fb2ee29f39d9"
      },
      "execution_count": null,
      "outputs": [
        {
          "output_type": "stream",
          "name": "stdout",
          "text": [
            "!ar ,e p\n",
            "arep\n"
          ]
        }
      ]
    },
    {
      "cell_type": "code",
      "source": [
        "x = int(input(\"Unesite broj:\"))\n",
        "izraz = input(\"Unesite izraz:\")\n",
        "print(eval(izraz))\n"
      ],
      "metadata": {
        "colab": {
          "base_uri": "https://localhost:8080/"
        },
        "id": "ObarDDMAT8OR",
        "outputId": "f0b78393-3629-4880-8bc9-5086d8cbc555"
      },
      "execution_count": null,
      "outputs": [
        {
          "output_type": "stream",
          "name": "stdout",
          "text": [
            "Unesite broj:9\n",
            "Unesite izraz:x*x\n",
            "81\n"
          ]
        }
      ]
    },
    {
      "cell_type": "code",
      "source": [
        "class Adresa:\n",
        "  def __init__(self, ulica, broj):\n",
        "    self.ulica = ulica\n",
        "    self.broj = broj\n",
        "  def __str__(self):\n",
        "    return(f\"Ulica {self.ulica}/{self.broj}\")\n",
        "class Covek:\n",
        "  id = 0\n",
        "  def __init__(self, ime, prezime, adresa: Adresa):\n",
        "    self.ime = ime\n",
        "    self.prezime = prezime\n",
        "    self.id = Covek.id\n",
        "    self.adresa = adresa\n",
        "    Covek.id += 1\n",
        "  def __str__(self):\n",
        "    return f\"Ime coveka je:{self.ime}, prezime coveka je:{self.prezime}, id:{self.id}, zivi u ulici{self.adresa}\""
      ],
      "metadata": {
        "id": "qH9eSq_Yazvx"
      },
      "execution_count": null,
      "outputs": []
    },
    {
      "cell_type": "code",
      "source": [
        "a1 = Adresa(\"Balzakova\",4)\n",
        "\n",
        "\n",
        "\n",
        "c1 = Covek(\"tom\",\"tomic\",a1)\n",
        "print(c1)\n",
        "c2 = Covek(\"bob\",\"bobic\")\n",
        "print(c2)"
      ],
      "metadata": {
        "colab": {
          "base_uri": "https://localhost:8080/",
          "height": 235
        },
        "id": "C1sIltN3dr4a",
        "outputId": "5e900c96-31b8-495e-918f-925aeb4617b8"
      },
      "execution_count": null,
      "outputs": [
        {
          "output_type": "stream",
          "name": "stdout",
          "text": [
            "Ime coveka je:tom, prezime coveka je:tomic, id:0, zivi u uliciUlica Balzakova/4\n"
          ]
        },
        {
          "output_type": "error",
          "ename": "TypeError",
          "evalue": "ignored",
          "traceback": [
            "\u001b[0;31m---------------------------------------------------------------------------\u001b[0m",
            "\u001b[0;31mTypeError\u001b[0m                                 Traceback (most recent call last)",
            "\u001b[0;32m<ipython-input-15-b091e5ed88b5>\u001b[0m in \u001b[0;36m<module>\u001b[0;34m()\u001b[0m\n\u001b[1;32m      5\u001b[0m \u001b[0mc1\u001b[0m \u001b[0;34m=\u001b[0m \u001b[0mCovek\u001b[0m\u001b[0;34m(\u001b[0m\u001b[0;34m\"tom\"\u001b[0m\u001b[0;34m,\u001b[0m\u001b[0;34m\"tomic\"\u001b[0m\u001b[0;34m,\u001b[0m\u001b[0ma1\u001b[0m\u001b[0;34m)\u001b[0m\u001b[0;34m\u001b[0m\u001b[0;34m\u001b[0m\u001b[0m\n\u001b[1;32m      6\u001b[0m \u001b[0mprint\u001b[0m\u001b[0;34m(\u001b[0m\u001b[0mc1\u001b[0m\u001b[0;34m)\u001b[0m\u001b[0;34m\u001b[0m\u001b[0;34m\u001b[0m\u001b[0m\n\u001b[0;32m----> 7\u001b[0;31m \u001b[0mc2\u001b[0m \u001b[0;34m=\u001b[0m \u001b[0mCovek\u001b[0m\u001b[0;34m(\u001b[0m\u001b[0;34m\"bob\"\u001b[0m\u001b[0;34m,\u001b[0m\u001b[0;34m\"bobic\"\u001b[0m\u001b[0;34m)\u001b[0m\u001b[0;34m\u001b[0m\u001b[0;34m\u001b[0m\u001b[0m\n\u001b[0m\u001b[1;32m      8\u001b[0m \u001b[0mprint\u001b[0m\u001b[0;34m(\u001b[0m\u001b[0mc2\u001b[0m\u001b[0;34m)\u001b[0m\u001b[0;34m\u001b[0m\u001b[0;34m\u001b[0m\u001b[0m\n",
            "\u001b[0;31mTypeError\u001b[0m: __init__() missing 1 required positional argument: 'adresa'"
          ]
        }
      ]
    },
    {
      "cell_type": "code",
      "source": [
        "s = \"pera\"\n",
        "print(type(s))"
      ],
      "metadata": {
        "colab": {
          "base_uri": "https://localhost:8080/"
        },
        "id": "EKyXp8-G7uuS",
        "outputId": "504cd51a-8ece-438f-df44-5ce43d6a09d7"
      },
      "execution_count": null,
      "outputs": [
        {
          "output_type": "stream",
          "name": "stdout",
          "text": [
            "<class 'str'>\n"
          ]
        }
      ]
    },
    {
      "cell_type": "code",
      "source": [
        "l = [1, 5, 2, 4, 3, 6]\n",
        "l.sort()\n",
        "for i in l:\n",
        "  print(i)"
      ],
      "metadata": {
        "colab": {
          "base_uri": "https://localhost:8080/"
        },
        "id": "pPXE-gIdRYpr",
        "outputId": "5843756c-1528-4397-f27b-7694a9d662ca"
      },
      "execution_count": null,
      "outputs": [
        {
          "output_type": "stream",
          "name": "stdout",
          "text": [
            "1\n",
            "2\n",
            "3\n",
            "4\n",
            "5\n",
            "6\n"
          ]
        }
      ]
    },
    {
      "cell_type": "code",
      "source": [
        "# poredjenje po vrednosti ==  i poredjenje po referenci is \n",
        "l1 = [\"a\", \"b\", \"c\"]\n",
        "l2 = [\"a\", \"b\", \"c\"]\n",
        "l3 = l1\n",
        "print(l1 == l3)\n"
      ],
      "metadata": {
        "colab": {
          "base_uri": "https://localhost:8080/"
        },
        "id": "J5umt-A9faJ9",
        "outputId": "be04fe6a-6eef-449b-d79e-9f456b2e8ef1"
      },
      "execution_count": null,
      "outputs": [
        {
          "output_type": "stream",
          "name": "stdout",
          "text": [
            "True\n"
          ]
        }
      ]
    },
    {
      "cell_type": "code",
      "source": [
        "nums = [1,2,3,4,5,6]\n",
        "\n",
        "print(nums[::-1])\n",
        "print(nums)\n",
        "print(list(reversed(nums)))"
      ],
      "metadata": {
        "colab": {
          "base_uri": "https://localhost:8080/"
        },
        "id": "MyVvEeOqGo98",
        "outputId": "0d22ba26-a57c-46ae-b764-892365d466ff"
      },
      "execution_count": null,
      "outputs": [
        {
          "output_type": "stream",
          "name": "stdout",
          "text": [
            "[6, 5, 4, 3, 2, 1]\n",
            "[1, 2, 3, 4, 5, 6]\n",
            "[6, 5, 4, 3, 2, 1]\n"
          ]
        }
      ]
    },
    {
      "cell_type": "code",
      "source": [
        "s = \"papaja\"\n",
        "sortirani = \"\".join(sorted(s))\n",
        "print(sortirani)\n",
        "obrnuti = \"\".join(reversed(s))\n",
        "print(obrnuti)"
      ],
      "metadata": {
        "colab": {
          "base_uri": "https://localhost:8080/"
        },
        "id": "muU4mYRrrC9f",
        "outputId": "b5cb05c7-864f-4170-a5ac-7ade466b3179"
      },
      "execution_count": null,
      "outputs": [
        {
          "output_type": "stream",
          "name": "stdout",
          "text": [
            "aaajpp\n",
            "ajapap\n"
          ]
        }
      ]
    }
  ]
}